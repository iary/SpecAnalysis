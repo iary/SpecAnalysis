{
 "cells": [
  {
   "cell_type": "code",
   "execution_count": 1,
   "id": "24a6aa9f-25b5-4373-a2d0-201c7555ce9e",
   "metadata": {},
   "outputs": [],
   "source": [
    "# %load VoigtFit_example.py\n",
    "import numpy as np\n",
    "import VoigtFit\n",
    "\n",
    "### Fit DLA towards quasar Q1313+1441\n",
    "### Observed in X-shooter P089.A-0068\n",
    "\n",
    "z_DLA = 1.7941\n",
    "logNHI = 21.3, 0.1\t\t# value, uncertainty\n",
    "\n",
    "# If log(NHI) is not known use:\n",
    "#logNHI = None\n",
    "\n",
    "#### Load UVB and VIS data:\n",
    "UVB_fname = 'test_UVB_1d.spec'\n",
    "res_UVB = 8000\n",
    "VIS_fname = 'test_VIS_1d.spec'\n",
    "res_VIS = 11800\n",
    "\n",
    "wl_uvb, spec_uvb, err_uvb = np.loadtxt(UVB_fname, unpack=True)\n",
    "wl_vis, spec_vis, err_vis = np.loadtxt(VIS_fname, unpack=True)\n",
    "\n",
    "# Alternatively, load a FITS spectrum (either a FITS table or array):\n",
    "# wl, flux, err, mask, header = VoigtFit.io.load_fits_spectrum(fname)\n",
    "\n",
    "\n",
    "dataset = VoigtFit.DataSet(z_DLA)\n",
    "dataset.add_data(wl_uvb, spec_uvb, 299792./res_UVB, err=err_uvb, normalized=False)\n",
    "dataset.add_data(wl_vis, spec_vis, 299792./res_VIS, err=err_vis, normalized=False)\n",
    "\n",
    "### Define absorption lines:\n",
    "dataset.add_line('FeII_2374')\n",
    "dataset.add_line('FeII_2260')\n",
    "dataset.add_line('CrII_2056')\n",
    "dataset.add_line('CrII_2066')\n",
    "dataset.add_line('CrII_2026')\n",
    "dataset.add_line('ZnII_2026')\n",
    "dataset.add_line('MgI_2026')\n",
    "dataset.add_line('MgI_2852')\n",
    "\n",
    "\n",
    "\n",
    "### If a line has been defined, and you don't want to fit it\n",
    "### it can either be removed from the dataset completely:\n",
    "#dataset.remove_line('CrII_2056')\n",
    "\n",
    "### or deactivated:\n",
    "#dataset.deactivate_line('FeII_2374')\n",
    "\n",
    "### A deactivated line is still present in the dataset,\n",
    "### but not included in the fit. The line may still show up in the final figure.\n",
    "\n",
    "### Define components to fit:\n",
    "# dataset.reset_components()\n",
    "\n",
    "### Add velocity components for each ion:\n",
    "#                      ion    z         b   logN\n",
    "dataset.add_component('FeII', 1.793532, 20, 14.3, var_z=1)\n",
    "dataset.add_component('FeII', 1.794060, 20, 15.0, var_z=1)\n",
    "dataset.add_component('FeII', 1.794282, 20, 14.3, var_z=1)\n",
    "dataset.add_component('FeII', 1.794722, 20, 14.3, var_z=1)\n",
    "dataset.add_component('FeII', 1.795121, 15, 14.5, var_z=1, var_b=1)\n",
    "#\n",
    "# Options for the components:\n",
    "# var_z=1/0 vary redshift for this component\n",
    "# var_b=1/0 vary b-parameter for this component\n",
    "# var_N=1/0 vary column density for this component\n",
    "#\n",
    "# Redshift and b-parameters can be tied.\n",
    "# passing the option 'tie_z=z0_FeII' ties the redshift to the first component of FeII\n",
    "# passing the option 'tie_b=b2_SiII' ties the b-parameter to the third component of SiII\n",
    "#\n",
    "# NOTE - the ion must be defined and the component index starts with 0\n",
    "#\n",
    "# The entire velocity structure can be copied from one ion to another:\n",
    "dataset.copy_components(from_ion='FeII', to_ion='ZnII', logN=12.9, ref_comp=1)\n",
    "# This copies the five components defined for FeII to ZnII and keeps\n",
    "# the same pattern of initial guesses for column density.\n",
    "# By giving ref_comp and logN, this intial guess pattern is scaled such\n",
    "# that the second component has logN=12.9\n",
    "#\n",
    "# Individual components which are not observed for weaker lines can be removed:\n",
    "#dataset.delete_component('ZnII', 4)\t# the index '4' refers to the fifth component\n",
    "#dataset.delete_component('ZnII', 3)\n",
    "#dataset.delete_component('ZnII', 2)\n",
    "#dataset.delete_component('ZnII', 1)\n",
    "#dataset.delete_component('ZnII', 0)\n",
    "# NOTE - components should be deleted from last component to first component\n",
    "#        not the other way around as that messes up the component numbering.\n",
    "\n",
    "dataset.copy_components(to_ion='CrII', from_ion='FeII', logN=13.6, ref_comp=1)\n",
    "dataset.copy_components(to_ion='MgI', from_ion='FeII', logN=12.4, ref_comp=1)"
   ]
  },
  {
   "cell_type": "code",
   "execution_count": 2,
   "id": "6c98fcf0-1063-49c7-a3a4-025e327c8ff6",
   "metadata": {},
   "outputs": [],
   "source": [
    "import matplotlib.pyplot as ply"
   ]
  },
  {
   "cell_type": "code",
   "execution_count": 3,
   "id": "6a5d06fc-c979-4973-9c98-0718c25c653e",
   "metadata": {},
   "outputs": [
    {
     "name": "stdout",
     "output_type": "stream",
     "text": [
      "Using matplotlib backend: MacOSX\n"
     ]
    }
   ],
   "source": [
    "%matplotlib"
   ]
  },
  {
   "cell_type": "code",
   "execution_count": 1,
   "id": "d6a9da24-d122-4459-bcb6-44704cdb5f06",
   "metadata": {},
   "outputs": [],
   "source": [
    "# Crucial step:\n",
    "dataset.prepare_dataset()"
   ]
  },
  {
   "cell_type": "code",
   "execution_count": 1,
   "id": "dab0dd9e-e838-49de-b31b-ce7f51a4311d",
   "metadata": {},
   "outputs": [],
   "source": [
    "# Run the fit:\n",
    "popt, chi2 = dataset.fit()\n",
    "\n",
    "# Output best-fit parameters, total column densities and make plot:\n",
    "dataset.plot_fit()\n",
    "if logNHI:\n",
    "    dataset.print_metallicity(*logNHI)\n",
    "dataset.print_total()\n",
    "\n",
    "### The best-fit parameters can be accessed from the .best_fit attribute:\n",
    "#logN0 = dataset.best_fit['logN0_FeII'].value\n",
    "#logN0_err = dataset.best_fit['logN0_FeII'].stderr\n",
    "#b1 = dataset.best_fit['b1_FeII'].value\n",
    "#b1_err = dataset.best_fit['b1_FeII'].stderr\n",
    "\n",
    "# Or you can create a list of all values:\n",
    "#logN_FeII = [dataset.best_fit['logN%i_FeII' % num].value for num in range(len(dataset.components['FeII']))]\n",
    "#logN_err_FeII = [dataset.best_fit['logN%i_FeII' % num].stderr for num in range(len(dataset.components['FeII']))]\n",
    "\n",
    "dataset.save('example_fit.hdf5')\n",
    "\n",
    "### The dataset which was defined above can be loaded like this:\n",
    "# dataset = VoigtFit.load_dataset('example_fit.hdf5')"
   ]
  },
  {
   "cell_type": "code",
   "execution_count": null,
   "id": "877893a7-0a49-4c6d-9ed0-12ee1d78639c",
   "metadata": {},
   "outputs": [],
   "source": []
  }
 ],
 "metadata": {
  "kernelspec": {
   "display_name": "Python 3",
   "language": "python",
   "name": "python3"
  },
  "language_info": {
   "codemirror_mode": {
    "name": "ipython",
    "version": 3
   },
   "file_extension": ".py",
   "mimetype": "text/x-python",
   "name": "python",
   "nbconvert_exporter": "python",
   "pygments_lexer": "ipython3",
   "version": "3.8.5"
  }
 },
 "nbformat": 4,
 "nbformat_minor": 5
}
